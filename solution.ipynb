{
 "cells": [
  {
   "cell_type": "markdown",
   "metadata": {},
   "source": [
    "Question 1.                                                                                      \n",
    "\n",
    "Write a function that takes an array of integers and returns that array rotated by N positions\n",
    "using Python or Ruby or JavaScript.\n",
    "\n",
    "    For example, if N=2, given the input array given the input array [1, 2, 3, 4, 5, 6]\n",
    "    the function should return [5, 6, 1, 2, 3, 4]"
   ]
  },
  {
   "cell_type": "code",
   "execution_count": 1,
   "metadata": {},
   "outputs": [
    {
     "data": {
      "text/plain": [
       "[5, 6, 1, 2, 3, 4]"
      ]
     },
     "execution_count": 1,
     "metadata": {},
     "output_type": "execute_result"
    }
   ],
   "source": [
    "def rotate_list(arr,n=2):\n",
    "    \"\"\"Function rotates the given array using slicing\n",
    "    n is optional\n",
    "    @param arr: list of numbers\n",
    "    @param n: position to rotate the array\"\"\"\n",
    "    return arr[-n:]+arr[:len(arr)-n]\n",
    "\n",
    "rotate_list([1,2,3,4,5,6],2)"
   ]
  },
  {
   "cell_type": "markdown",
   "metadata": {},
   "source": [
    "____"
   ]
  },
  {
   "cell_type": "markdown",
   "metadata": {},
   "source": [
    "Question 2. JavaScript\n",
    "\n",
    "    In JavaScript , answer if the following expressions result in true or false (and explain your\n",
    "    answer)\n",
    "\n",
    "  - “0” == 0 //true\n",
    "  - \"\" == 0 //true\n",
    "  - \"\" == \"0\" //false"
   ]
  },
  {
   "cell_type": "markdown",
   "metadata": {},
   "source": [
    "------"
   ]
  },
  {
   "cell_type": "markdown",
   "metadata": {},
   "source": [
    "Question 3. Python, Ruby or JavaScript\n",
    "\n",
    "    Most languages have a built in sort method that will sort an array of strings alphabetically.\n",
    "    Demonstrate how to sort an array of strings by the length of each string, shortest strings first.\n",
    "\n",
    "Hint: clean, small code wins.\n",
    "    "
   ]
  },
  {
   "cell_type": "code",
   "execution_count": 2,
   "metadata": {},
   "outputs": [
    {
     "name": "stdout",
     "output_type": "stream",
     "text": [
      "normal sort: ['sa', 'sam', 'saty', 'satyam']\n",
      "reverse sort:  ['satyam', 'saty', 'sam', 'sa']\n"
     ]
    }
   ],
   "source": [
    "def sort_strings(list_of_strings,reverse=False):\n",
    "    '''\n",
    "    Function to sort the list of the strings based on their lengths\n",
    "    @param list_of_strings: list of strings\n",
    "    @param reverse: True sorts the list in reverse order and false in non reverse\n",
    "    @returns: sorted list of strings\n",
    "    '''\n",
    "    return sorted(list_of_strings,key=lambda x: len(x),reverse=reverse)\n",
    "\n",
    "print('normal sort:', sort_strings(['sam','sa','satyam','saty']))\n",
    "print('reverse sort: ',sort_strings(['sam','sa','satyam','saty'],True))"
   ]
  },
  {
   "cell_type": "markdown",
   "metadata": {},
   "source": [
    "_____"
   ]
  },
  {
   "cell_type": "markdown",
   "metadata": {},
   "source": [
    "Question 4. JavaScript\n",
    "\n",
    "```js\n",
    "function weird(x) {\n",
    "\n",
    "        var tmp = 3;\n",
    "        \n",
    "        return function(y) {\n",
    "        \n",
    "            return x + y + ++tmp;\n",
    "            \n",
    "        }\n",
    "        \n",
    "}\n",
    "\n",
    "var funny = weird(2);\n",
    "\n",
    "var final_answer = funny(10);\n",
    "```\n",
    "What is the value of final_answer at the end of this snippet? Please explain your answer"
   ]
  },
  {
   "cell_type": "markdown",
   "metadata": {},
   "source": [
    "#### explanation\n",
    "\n",
    "> this is a *closure*\n",
    "\n",
    "> when ```weird(2)``` is called it returns inner function with x=2 & tmp = 4 as it is increemented\n",
    "\n",
    "> next when ```funny(10)``` is called, sets y = 10 and returns sum of all these as 16"
   ]
  },
  {
   "cell_type": "markdown",
   "metadata": {},
   "source": [
    "___"
   ]
  },
  {
   "cell_type": "markdown",
   "metadata": {},
   "source": [
    "Question 5. Python, Ruby or JavaScript\n",
    "\n",
    "Consider the following pattern:\n",
    "\n",
    "    A → D M → P X → A\n",
    "\n",
    "    a → d m → p x → a\n",
    "\n",
    "Now, write a program to solve the following message using Python, JavaScript or Ruby.\n",
    "\n",
    "```     Vrphwklqj phdqlqjixo```\n",
    "\n",
    "Hint: The answer is something meaningful."
   ]
  },
  {
   "cell_type": "code",
   "execution_count": 3,
   "metadata": {},
   "outputs": [
    {
     "name": "stdout",
     "output_type": "stream",
     "text": [
      "Something meaningful\n"
     ]
    }
   ],
   "source": [
    "def decode_string(string):\n",
    "    '''\n",
    "    function to decode string using the ascii value\n",
    "    @param string: string to decode\n",
    "    @returns: decoded string\n",
    "    '''\n",
    "    def inner_map(char):\n",
    "        return dict(zip(map(chr,list(range(ord(char)+3,ord(char)+26))+list(range(ord(char),ord(char)+3))),\n",
    "                        map(chr,range(ord(char),ord(char)+26))))\n",
    "    return ''.join([dict(**inner_map('A'),**inner_map('a')).get(i,i) for i in string])\n",
    "\n",
    "print(decode_string('Vrphwklqj phdqlqjixo'))"
   ]
  },
  {
   "cell_type": "markdown",
   "metadata": {},
   "source": [
    "___"
   ]
  },
  {
   "cell_type": "markdown",
   "metadata": {},
   "source": [
    "Question 6. Python, Ruby or JavaScript\n",
    "\n",
    "Use the following paragraphs (in italics below) as input to the program you wrote for Question 5.\n",
    "\n",
    "It should output a meaningful question. Write a program to solve that question.\n",
    "\n",
    ">Zulwh d surjudp (lq Sbwkrq, MdydVfulsw ru Uxeb) wr srsxodwh dqg wkhq vruw d\n",
    ">udqgrpob glvwulexwhg olvw ri 1 ploolrq lqwhjhuv, hdfk lqwhjhu kdylqj d ydoxh >= 1 dqg <=\n",
    ">100 zlwkrxw xvlqj dqb exlowlq/hawhuqdo oleudub/ixqfwlrq iru vruwlqj.\n",
    ">Brxu surjudp vkrxog fduhixoob frqvlghu wkh lqsxw dqg frph xs zlwk wkh prvw hiilflhqw\n",
    ">vruwlqj vroxwlrq brx fdq wklqn ri. Surylgh wkh vsdfh dqg wlph frpsohalwb ri brxu dojrulwkp"
   ]
  },
  {
   "cell_type": "code",
   "execution_count": 4,
   "metadata": {},
   "outputs": [
    {
     "name": "stdout",
     "output_type": "stream",
     "text": [
      "Write a program (in Python, JavaScript or Ruby) to populate and then sort a randomly distributed list of 1 million integers, each integer having a value >= 1 and <= 100 without using any builtin/external library/function for sorting. Your program should carefully consider the input and come up with the most efficient sorting solution you can think of. Provide the space and time complexity of your algorithm\n"
     ]
    }
   ],
   "source": [
    "#decoding the question\n",
    "print(decode_string('''Zulwh d surjudp (lq Sbwkrq, MdydVfulsw ru Uxeb) wr srsxodwh dqg wkhq vruw d udqgrpob glvwulexwhg olvw ri 1 ploolrq lqwhjhuv, hdfk lqwhjhu kdylqj d ydoxh >= 1 dqg <= 100 zlwkrxw xvlqj dqb exlowlq/hawhuqdo oleudub/ixqfwlrq iru vruwlqj. Brxu surjudp vkrxog fduhixoob frqvlghu wkh lqsxw dqg frph xs zlwk wkh prvw hiilflhqw vruwlqj vroxwlrq brx fdq wklqn ri. Surylgh wkh vsdfh dqg wlph frpsohalwb ri brxu dojrulwkp'''))"
   ]
  },
  {
   "cell_type": "code",
   "execution_count": 5,
   "metadata": {},
   "outputs": [],
   "source": [
    "import random\n",
    "records = [random.randint(1,100) for i in range(1000000)]"
   ]
  },
  {
   "cell_type": "code",
   "execution_count": 6,
   "metadata": {},
   "outputs": [],
   "source": [
    "def counting_sort(arr, exp1): \n",
    "  \n",
    "    n = len(arr) \n",
    "  \n",
    "    # The output array elements that will have sorted arr \n",
    "    output = [0] * (n) \n",
    "  \n",
    "    # initialize count array as 0 \n",
    "    count = [0] * (10) \n",
    "  \n",
    "    # Store count of occurrences in count[] \n",
    "    for i in range(0, n): \n",
    "        index = (arr[i]//exp1) \n",
    "        count[ (index)%10 ] += 1\n",
    "  \n",
    "    # Change count[i] so that count[i] now contains actual \n",
    "    #  position of this digit in output array \n",
    "    for i in range(1,10): \n",
    "        count[i] += count[i-1] \n",
    "  \n",
    "    # Build the output array \n",
    "    i = n-1\n",
    "    while i>=0: \n",
    "        index = (arr[i]//exp1) \n",
    "        output[ count[ (index)%10 ] - 1] = arr[i] \n",
    "        count[ (index)%10 ] -= 1\n",
    "        i -= 1\n",
    "  \n",
    "    # Copying the output array to arr[], \n",
    "    # so that arr now contains sorted numbers \n",
    "    i = 0\n",
    "    for i in range(0,len(arr)): \n",
    "        arr[i] = output[i] \n",
    "  \n",
    "def radix_sort(arr): \n",
    "  \n",
    "    # Find the maximum number to know number of digits \n",
    "    max1 = max(arr) \n",
    "  \n",
    "    # Do counting sort for every digit. Note that instead \n",
    "    # of passing digit number, exp is passed. exp is 10^i \n",
    "    # where i is current digit number \n",
    "    exp = 1\n",
    "    while max1//exp > 0: \n",
    "        counting_sort(arr,exp) \n",
    "        exp *= 10"
   ]
  },
  {
   "cell_type": "code",
   "execution_count": 7,
   "metadata": {},
   "outputs": [
    {
     "name": "stdout",
     "output_type": "stream",
     "text": [
      "CPU times: user 1.98 s, sys: 13.7 ms, total: 2 s\n",
      "Wall time: 2.01 s\n"
     ]
    }
   ],
   "source": [
    "%%time \n",
    "radix_sort(records)"
   ]
  },
  {
   "cell_type": "markdown",
   "metadata": {},
   "source": [
    "Explanation:\n",
    "    \n",
    ">I have used radix sort to sort out the records\n",
    "\n",
    ">it comprises of radix sort and counting sort, giving it the complexity of O(nLog(n))\n",
    "\n",
    ">This algorithm proved to be better than merge sort and heap on 1e6 records sorting them in 1.9 secs.\n",
    "\n",
    ">Radix sort helped me get better time complexity and performance due to its sorting by most significant places in every iteration and follow by counting sort for count and placing the elements"
   ]
  },
  {
   "cell_type": "markdown",
   "metadata": {},
   "source": [
    "___"
   ]
  },
  {
   "cell_type": "markdown",
   "metadata": {},
   "source": [
    "Question 7. Python, Ruby or JavaScript\n",
    "\n",
    "Write a simple program that reads a line from the keyboard and outputs the same line where\n",
    "every word is reversed. A word is defined as a continuous sequence of alphanumeric characters\n",
    "or hyphen (‘-’). For instance, if the input is\n",
    "\n",
    ">**“We are at Ignite Solutions! Their email-id is careers@ignitesol.com”**\n",
    "\n",
    "the output should be\n",
    "\n",
    ">**“eW era ta etingI snoituloS! riehT di-liame si sreerac@losetingi.moc”**\n",
    "\n",
    "*HINT: Read the problem and the example carefully before starting.*"
   ]
  },
  {
   "cell_type": "code",
   "execution_count": 8,
   "metadata": {},
   "outputs": [],
   "source": [
    "import re\n",
    "\n",
    "def reverse_string(string):\n",
    "    '''\n",
    "        function to reverse the words in the string\n",
    "        @params string: string of the size n\n",
    "        @returns: string with reversed words\n",
    "    '''\n",
    "    def rev_word(word):\n",
    "        '''\n",
    "        inner function to handle reverse word sequence.\n",
    "        @params word: word to reverse\n",
    "        @returns: reversed word\n",
    "        '''\n",
    "        parts = re.findall('[A-Za-z0-9/-]+',word)\n",
    "        for i in parts: word = word.replace(i,i[::-1])\n",
    "        return word\n",
    "    return ' ' .join([rev_word(i) for i in string.split()])\n"
   ]
  },
  {
   "cell_type": "code",
   "execution_count": 9,
   "metadata": {},
   "outputs": [
    {
     "data": {
      "text/plain": [
       "'eW era ta etingI snoituloS! riehT di-liame si sreerac@losetingi.moc'"
      ]
     },
     "execution_count": 9,
     "metadata": {},
     "output_type": "execute_result"
    }
   ],
   "source": [
    "reverse_string('We are at Ignite Solutions! Their email-id is careers@ignitesol.com')"
   ]
  },
  {
   "cell_type": "markdown",
   "metadata": {},
   "source": [
    "____"
   ]
  }
 ],
 "metadata": {
  "kernelspec": {
   "display_name": "Python 3",
   "language": "python",
   "name": "python3"
  },
  "language_info": {
   "codemirror_mode": {
    "name": "ipython",
    "version": 3
   },
   "file_extension": ".py",
   "mimetype": "text/x-python",
   "name": "python",
   "nbconvert_exporter": "python",
   "pygments_lexer": "ipython3",
   "version": "3.7.3"
  }
 },
 "nbformat": 4,
 "nbformat_minor": 2
}
