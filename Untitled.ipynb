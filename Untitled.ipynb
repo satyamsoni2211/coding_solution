{
 "cells": [
  {
   "cell_type": "code",
   "execution_count": 3,
   "metadata": {},
   "outputs": [],
   "source": [
    "d = {\n",
    "    'data':[\n",
    "        {\n",
    "            'name':'sam',\n",
    "            'age':24\n",
    "        },\n",
    "        {\n",
    "            'name':'soni',\n",
    "            'age':24\n",
    "        },{\n",
    "            'name':'sam',\n",
    "            'age':24\n",
    "        },{\n",
    "            'name':'soni',\n",
    "            'age':24\n",
    "        },{\n",
    "            'name':'sam',\n",
    "            'age':24\n",
    "        },{\n",
    "            'name':'soni',\n",
    "            'age':24\n",
    "        },{\n",
    "            'name':'sam',\n",
    "            'age':24\n",
    "        },{\n",
    "            'name':'soni',\n",
    "            'age':24\n",
    "        },{\n",
    "            'name':'sam',\n",
    "            'age':24\n",
    "        },{\n",
    "            'name':'soni',\n",
    "            'age':24\n",
    "        },\n",
    "    ]\n",
    "}"
   ]
  },
  {
   "cell_type": "code",
   "execution_count": 7,
   "metadata": {},
   "outputs": [],
   "source": [
    "n = frozenset(map(lambda x: x['name'],d['data']))"
   ]
  },
  {
   "cell_type": "code",
   "execution_count": 9,
   "metadata": {},
   "outputs": [
    {
     "data": {
      "text/plain": [
       "['sam', 'soni']"
      ]
     },
     "execution_count": 9,
     "metadata": {},
     "output_type": "execute_result"
    }
   ],
   "source": [
    "list(n)"
   ]
  },
  {
   "cell_type": "code",
   "execution_count": 10,
   "metadata": {},
   "outputs": [
    {
     "data": {
      "text/plain": [
       "{'name': 'sam', 'age': 20}"
      ]
     },
     "execution_count": 10,
     "metadata": {},
     "output_type": "execute_result"
    }
   ],
   "source": [
    "dict(name='sam',age=20)"
   ]
  },
  {
   "cell_type": "code",
   "execution_count": 13,
   "metadata": {},
   "outputs": [
    {
     "data": {
      "text/plain": [
       "0"
      ]
     },
     "execution_count": 13,
     "metadata": {},
     "output_type": "execute_result"
    }
   ],
   "source": [
    "sum([])"
   ]
  },
  {
   "cell_type": "code",
   "execution_count": null,
   "metadata": {},
   "outputs": [],
   "source": []
  }
 ],
 "metadata": {
  "kernelspec": {
   "display_name": "Python 3",
   "language": "python",
   "name": "python3"
  },
  "language_info": {
   "codemirror_mode": {
    "name": "ipython",
    "version": 3
   },
   "file_extension": ".py",
   "mimetype": "text/x-python",
   "name": "python",
   "nbconvert_exporter": "python",
   "pygments_lexer": "ipython3",
   "version": "3.7.3"
  }
 },
 "nbformat": 4,
 "nbformat_minor": 2
}
